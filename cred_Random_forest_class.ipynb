{
  "nbformat": 4,
  "nbformat_minor": 0,
  "metadata": {
    "colab": {
      "name": "cred_Random_forest_class.ipynb",
      "provenance": [],
      "collapsed_sections": [],
      "authorship_tag": "ABX9TyNT7BGYRkr9irpHKkt0EY02"
    },
    "kernelspec": {
      "display_name": "Python 3",
      "name": "python3"
    },
    "language_info": {
      "name": "python"
    }
  },
  "cells": [
    {
      "cell_type": "markdown",
      "metadata": {
        "id": "5VPy29J-B_fG"
      },
      "source": [
        "## **Importing Libraries**"
      ]
    },
    {
      "cell_type": "code",
      "metadata": {
        "id": "iRO0fIDmA2fa"
      },
      "source": [
        "import numpy as np\n",
        "import pandas as pd \n",
        "import matplotlib.pyplot as plt\n",
        "import seaborn as sns\n",
        "from sklearn.model_selection import train_test_split\n",
        "from sklearn.ensemble import RandomForestClassifier\n",
        "from sklearn.metrics import accuracy_score, precision_score, recall_score \n",
        "from sklearn.metrics import confusion_matrix \n"
      ],
      "execution_count": null,
      "outputs": []
    },
    {
      "cell_type": "markdown",
      "metadata": {
        "id": "kgPjk4IoCEXg"
      },
      "source": [
        "## **Mounting Dataset**"
      ]
    },
    {
      "cell_type": "code",
      "metadata": {
        "colab": {
          "base_uri": "https://localhost:8080/"
        },
        "id": "rSX6QwMKfycE",
        "outputId": "23617e6e-f59f-4cdd-8079-db89cb140686"
      },
      "source": [
        "from google.colab import drive\n",
        "drive.mount('/content/drive')"
      ],
      "execution_count": null,
      "outputs": [
        {
          "output_type": "stream",
          "name": "stdout",
          "text": [
            "Drive already mounted at /content/drive; to attempt to forcibly remount, call drive.mount(\"/content/drive\", force_remount=True).\n"
          ]
        }
      ]
    },
    {
      "cell_type": "markdown",
      "metadata": {
        "id": "rWJm6DZ8CJGL"
      },
      "source": [
        "## **Adding Dataset**"
      ]
    },
    {
      "cell_type": "code",
      "metadata": {
        "id": "aGM7BRksA5cn"
      },
      "source": [
        "path = \"/content/drive/MyDrive/Colab Notebooks/Datasets/creditcard.csv\"\n",
        "data=pd.read_csv(path)"
      ],
      "execution_count": null,
      "outputs": []
    },
    {
      "cell_type": "markdown",
      "metadata": {
        "id": "vrb0xtlvCLs3"
      },
      "source": [
        "## **Exploratory Data Analysis**"
      ]
    },
    {
      "cell_type": "code",
      "metadata": {
        "colab": {
          "base_uri": "https://localhost:8080/",
          "height": 282
        },
        "id": "KXeQfrmSoY7K",
        "outputId": "3c037e7c-038f-4bf4-9b3a-783d8e0a7b56"
      },
      "source": [
        "plt.bar(['Valid','Fraud'],list(data['Class'].value_counts()))\n",
        "print(\"Fraudulent transactions: \", end='')\n",
        "frauds= data['Class'].value_counts()[1]/sum(data['Class'].value_counts())\n",
        "print(round(frauds*100,2), end='%')\n",
        "plt.show()"
      ],
      "execution_count": null,
      "outputs": [
        {
          "output_type": "stream",
          "name": "stdout",
          "text": [
            "Fraudulent transactions: 0.17%"
          ]
        },
        {
          "output_type": "display_data",
          "data": {
            "image/png": "[encoded data removed]",
            "text/plain": [
              "<Figure size 432x288 with 1 Axes>"
            ]
          },
          "metadata": {
            "needs_background": "light"
          }
        }
      ]
    },
    {
      "cell_type": "markdown",
      "metadata": {
        "id": "l7YTNLiACUos"
      },
      "source": [
        "## **Correlation**"
      ]
    },
    {
      "cell_type": "code",
      "metadata": {
        "id": "5kSh0U4mA5a0"
      },
      "source": [
        "# fig=plt.figure(figsize= (12, 12)) \n",
        "# sns.heatmap(data.corr(), cmap='Blues')\n",
        "# plt.show()"
      ],
      "execution_count": null,
      "outputs": []
    },
    {
      "cell_type": "markdown",
      "metadata": {
        "id": "nN4Sd0OECpoj"
      },
      "source": [
        "## **Data Spliting (Test and Train)**"
      ]
    },
    {
      "cell_type": "code",
      "metadata": {
        "id": "4hzbGoSkA5Yp"
      },
      "source": [
        "x =data.iloc[:,:-1].values\n",
        "y =data.iloc[:,-1].values\n",
        "x_train, x_test, y_train, y_test = train_test_split(x, y, test_size=0.2, random_state=0) # 80% train 20% test"
      ],
      "execution_count": null,
      "outputs": []
    },
    {
      "cell_type": "markdown",
      "metadata": {
        "id": "kLMyYa72Cxjn"
      },
      "source": [
        "## **Model RandomForestClassifier**"
      ]
    },
    {
      "cell_type": "code",
      "metadata": {
        "colab": {
          "base_uri": "https://localhost:8080/"
        },
        "id": "1QOrjC-Ema0j",
        "outputId": "e4c888a2-dfaa-4a27-840d-f18cd734bdb4"
      },
      "source": [
        "classifier = RandomForestClassifier(n_estimators = 10, criterion = 'entropy', random_state = 0)\n",
        "classifier.fit(x_train, y_train)"
      ],
      "execution_count": null,
      "outputs": [
        {
          "output_type": "execute_result",
          "data": {
            "text/plain": [
              "RandomForestClassifier(bootstrap=True, ccp_alpha=0.0, class_weight=None,\n",
              "                       criterion='entropy', max_depth=None, max_features='auto',\n",
              "                       max_leaf_nodes=None, max_samples=None,\n",
              "                       min_impurity_decrease=0.0, min_impurity_split=None,\n",
              "                       min_samples_leaf=1, min_samples_split=2,\n",
              "                       min_weight_fraction_leaf=0.0, n_estimators=10,\n",
              "                       n_jobs=None, oob_score=False, random_state=0, verbose=0,\n",
              "                       warm_start=False)"
            ]
          },
          "metadata": {},
          "execution_count": 6
        }
      ]
    },
    {
      "cell_type": "markdown",
      "metadata": {
        "id": "jEZbleUqC8Wq"
      },
      "source": [
        "## **Prediction**"
      ]
    },
    {
      "cell_type": "code",
      "metadata": {
        "id": "Kw8ftJDToMqk"
      },
      "source": [
        "y_pred = classifier.predict(x_test)"
      ],
      "execution_count": null,
      "outputs": []
    },
    {
      "cell_type": "markdown",
      "metadata": {
        "id": "BpKAcOuvDAUH"
      },
      "source": [
        "## **Accuracy Precision Recall**"
      ]
    },
    {
      "cell_type": "code",
      "metadata": {
        "colab": {
          "base_uri": "https://localhost:8080/"
        },
        "id": "fo_YCwxrA5Tu",
        "outputId": "ec8d74c0-7a4d-4b41-d2bb-a8c13902d38a"
      },
      "source": [
        "print(\"Model Accuracy:\", round(accuracy_score(y_test, y_pred),4))\n",
        "print(\"Model Precision:\", round(precision_score(y_test, y_pred),4))\n",
        "print(\"Model Recall:\", round(recall_score(y_test, y_pred),4))"
      ],
      "execution_count": null,
      "outputs": [
        {
          "output_type": "stream",
          "name": "stdout",
          "text": [
            "Model Accuracy: 0.9995\n",
            "Model Precision: 0.9167\n",
            "Model Recall: 0.7624\n"
          ]
        }
      ]
    },
    {
      "cell_type": "markdown",
      "metadata": {
        "id": "fQI2rmE7DK3F"
      },
      "source": [
        "## **Confusion Matrix**"
      ]
    },
    {
      "cell_type": "code",
      "metadata": {
        "colab": {
          "base_uri": "https://localhost:8080/"
        },
        "id": "CoeZzegAA5Sg",
        "outputId": "f3f1fef6-082e-4d4c-b026-a404496e52f8"
      },
      "source": [
        "labels= ['Valid', 'Fraud'] \n",
        "cm=confusion_matrix(y_test, y_pred) \n",
        "cm"
      ],
      "execution_count": null,
      "outputs": [
        {
          "output_type": "execute_result",
          "data": {
            "text/plain": [
              "array([[56854,     7],\n",
              "       [   24,    77]])"
            ]
          },
          "metadata": {},
          "execution_count": 9
        }
      ]
    },
    {
      "cell_type": "code",
      "metadata": {
        "id": "p6xqFlhHlIH2",
        "colab": {
          "base_uri": "https://localhost:8080/",
          "height": 404
        },
        "outputId": "75c7b1f7-8af3-48ca-a359-3fb8ec2b5a8a"
      },
      "source": [
        "plt.figure(figsize=(6, 6)) \n",
        "sns.heatmap(cm, xticklabels= labels, yticklabels= labels, annot=True, fmt=\"d\")\n",
        "plt.title(\"Random Forest Classifier - Confusion Matrix\") \n",
        "plt.ylabel('True Value') \n",
        "plt.xlabel('Predicted Value') \n",
        "plt.show()"
      ],
      "execution_count": null,
      "outputs": [
        {
          "output_type": "display_data",
          "data": {
            "image/png": "[encoded data removed]",
            "text/plain": [
              "<Figure size 432x432 with 2 Axes>"
            ]
          },
          "metadata": {
            "needs_background": "light"
          }
        }
      ]
    }
  ]
}