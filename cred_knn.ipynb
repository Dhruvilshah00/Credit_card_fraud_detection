{
  "nbformat": 4,
  "nbformat_minor": 0,
  "metadata": {
    "colab": {
      "name": "cred_knn.ipynb",
      "provenance": [],
      "authorship_tag": "ABX9TyMoRytnEkkcbYGarWR5VRj8"
    },
    "kernelspec": {
      "name": "python3",
      "display_name": "Python 3"
    },
    "language_info": {
      "name": "python"
    }
  },
  "cells": [
    {
      "cell_type": "code",
      "metadata": {
        "id": "j6MC6vzHUxeG"
      },
      "source": [
        "import numpy as np\n",
        "import pandas as pd \n",
        "import matplotlib.pyplot as plt\n",
        "import seaborn as sns\n",
        "from sklearn.model_selection import train_test_split\n",
        "from sklearn.neighbors import KNeighborsClassifier\n",
        "from sklearn.metrics import accuracy_score, precision_score, recall_score \n",
        "from sklearn.metrics import confusion_matrix "
      ],
      "execution_count": null,
      "outputs": []
    },
    {
      "cell_type": "code",
      "metadata": {
        "colab": {
          "base_uri": "https://localhost:8080/"
        },
        "id": "KSaLrrRmU3wO",
        "outputId": "b68e501d-8254-4f61-d925-2bf209af37ad"
      },
      "source": [
        "from google.colab import drive\n",
        "drive.mount('/content/drive')"
      ],
      "execution_count": null,
      "outputs": [
        {
          "output_type": "stream",
          "name": "stdout",
          "text": [
            "Drive already mounted at /content/drive; to attempt to forcibly remount, call drive.mount(\"/content/drive\", force_remount=True).\n"
          ]
        }
      ]
    },
    {
      "cell_type": "code",
      "metadata": {
        "id": "TsXu0ffhU4F0"
      },
      "source": [
        "path = \"/content/drive/MyDrive/Colab Notebooks/Datasets/creditcard.csv\"\n",
        "data=pd.read_csv(path)"
      ],
      "execution_count": null,
      "outputs": []
    },
    {
      "cell_type": "code",
      "metadata": {
        "id": "j394sEUQU49y"
      },
      "source": [
        "x =data.iloc[:,:-1].values\n",
        "y =data.iloc[:,-1].values\n",
        "x_train, x_test, y_train, y_test = train_test_split(x, y, test_size=0.2, random_state=0) # 80% train 20% test"
      ],
      "execution_count": null,
      "outputs": []
    },
    {
      "cell_type": "code",
      "metadata": {
        "colab": {
          "base_uri": "https://localhost:8080/"
        },
        "id": "LUYak5LRU45d",
        "outputId": "8143f378-2b8f-4ee8-d71a-85f4dcc41fa7"
      },
      "source": [
        "classifier = KNeighborsClassifier(n_neighbors=5, metric='minkowski', p=3)\n",
        "classifier.fit(x_train, y_train)"
      ],
      "execution_count": null,
      "outputs": [
        {
          "output_type": "execute_result",
          "data": {
            "text/plain": [
              "KNeighborsClassifier(algorithm='auto', leaf_size=30, metric='minkowski',\n",
              "                     metric_params=None, n_jobs=None, n_neighbors=5, p=3,\n",
              "                     weights='uniform')"
            ]
          },
          "metadata": {},
          "execution_count": 5
        }
      ]
    },
    {
      "cell_type": "code",
      "metadata": {
        "id": "roC4sW_uVxBb"
      },
      "source": [
        "y_pred = classifier.predict(x_test)"
      ],
      "execution_count": null,
      "outputs": []
    },
    {
      "cell_type": "code",
      "metadata": {
        "colab": {
          "base_uri": "https://localhost:8080/"
        },
        "id": "JbHY5MX6U43g",
        "outputId": "06a4fe10-fab4-491b-d5c1-c7eccc09f291"
      },
      "source": [
        "print(\"Model Accuracy:\", round(accuracy_score(y_test, y_pred),4))\n",
        "print(\"Model Precision:\", round(precision_score(y_test, y_pred),4))\n",
        "print(\"Model Recall:\", round(recall_score(y_test, y_pred),4))"
      ],
      "execution_count": null,
      "outputs": [
        {
          "output_type": "stream",
          "name": "stdout",
          "text": [
            "Model Accuracy: 0.9983\n",
            "Model Precision: 1.0\n",
            "Model Recall: 0.0198\n"
          ]
        }
      ]
    },
    {
      "cell_type": "code",
      "metadata": {
        "colab": {
          "base_uri": "https://localhost:8080/"
        },
        "id": "bBgoxpF8U41M",
        "outputId": "9c08c3cc-b76e-4b16-8e2e-074bc23f83a4"
      },
      "source": [
        "labels= ['Valid', 'Fraud'] \n",
        "cm=confusion_matrix(y_test, y_pred)\n",
        "cm"
      ],
      "execution_count": null,
      "outputs": [
        {
          "output_type": "execute_result",
          "data": {
            "text/plain": [
              "array([[56861,     0],\n",
              "       [   99,     2]])"
            ]
          },
          "metadata": {},
          "execution_count": 12
        }
      ]
    },
    {
      "cell_type": "code",
      "metadata": {
        "colab": {
          "base_uri": "https://localhost:8080/",
          "height": 404
        },
        "id": "uwibsp2EU4zN",
        "outputId": "a38db5d5-a376-41c5-e643-eeb7ec9e3519"
      },
      "source": [
        "plt.figure(figsize=(6, 6)) \n",
        "sns.heatmap(cm, xticklabels= labels, yticklabels= labels, annot=True, fmt=\"d\")\n",
        "plt.title(\"KNN Classifier - Confusion Matrix\") \n",
        "plt.ylabel('True Value') \n",
        "plt.xlabel('Predicted Value') \n",
        "plt.show()"
      ],
      "execution_count": null,
      "outputs": [
        {
          "output_type": "display_data",
          "data": {
            "image/png": "[encoded data removed]",
            "text/plain": [
              "<Figure size 432x432 with 2 Axes>"
            ]
          },
          "metadata": {
            "needs_background": "light"
          }
        }
      ]
    }
  ]
}